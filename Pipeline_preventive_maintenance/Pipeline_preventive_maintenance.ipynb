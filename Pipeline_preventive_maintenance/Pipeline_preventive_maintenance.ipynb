{
 "cells": [
  {
   "cell_type": "markdown",
   "metadata": {},
   "source": [
    "# Case: Predicting pipeline failure"
   ]
  },
  {
   "cell_type": "markdown",
   "metadata": {},
   "source": [
    "![](https://russiabusinesstoday.com/wp-content/uploads/2018/07/gas-pipeline.jpg)\n",
    "\n",
    "source: https://russiabusinesstoday.com/energy/new-technology-developed-in-russia-to-prevent-leaks-in-oil-pipelines/\n",
    "\n",
    "\n",
    "Problem set:\n",
    "* The current method of selecting a pipeline is based on manual selection and expert experience\n",
    "* Often selected pipelines can vary from expert to expert"
   ]
  },
  {
   "cell_type": "code",
   "execution_count": 1,
   "metadata": {},
   "outputs": [
    {
     "name": "stdout",
     "output_type": "stream",
     "text": [
      "Populating the interactive namespace from numpy and matplotlib\n"
     ]
    }
   ],
   "source": [
    "%pylab inline \n",
    "%load_ext autoreload\n",
    "%autoreload 2\n",
    "\n",
    "# external\n",
    "import pandas as pd\n",
    "import numpy as np\n",
    "import seaborn as sns\n",
    "import warnings\n",
    "from pandas.plotting import register_matplotlib_converters\n",
    "\n",
    "register_matplotlib_converters()\n",
    "sns.set_style('whitegrid')\n",
    "warnings.filterwarnings(\"ignore\")\n",
    "pd.set_option('display.float_format', lambda x: \"%.5f\"%x)"
   ]
  },
  {
   "cell_type": "code",
   "execution_count": 2,
   "metadata": {},
   "outputs": [],
   "source": [
    "data = pd.read_csv(\"../data/Pipeline_accidents.csv\")"
   ]
  },
  {
   "cell_type": "code",
   "execution_count": 3,
   "metadata": {},
   "outputs": [
    {
     "data": {
      "text/html": [
       "<div>\n",
       "<style scoped>\n",
       "    .dataframe tbody tr th:only-of-type {\n",
       "        vertical-align: middle;\n",
       "    }\n",
       "\n",
       "    .dataframe tbody tr th {\n",
       "        vertical-align: top;\n",
       "    }\n",
       "\n",
       "    .dataframe thead th {\n",
       "        text-align: right;\n",
       "    }\n",
       "</style>\n",
       "<table border=\"1\" class=\"dataframe\">\n",
       "  <thead>\n",
       "    <tr style=\"text-align: right;\">\n",
       "      <th></th>\n",
       "      <th>x0</th>\n",
       "      <th>x1</th>\n",
       "      <th>x2</th>\n",
       "      <th>x3</th>\n",
       "      <th>x4</th>\n",
       "      <th>x5</th>\n",
       "      <th>x6</th>\n",
       "      <th>x7</th>\n",
       "      <th>x8</th>\n",
       "      <th>x9</th>\n",
       "      <th>x10</th>\n",
       "      <th>x11</th>\n",
       "      <th>x12</th>\n",
       "      <th>x13</th>\n",
       "      <th>x14</th>\n",
       "      <th>x15</th>\n",
       "      <th>x16</th>\n",
       "      <th>x17</th>\n",
       "      <th>x18</th>\n",
       "      <th>accident_rate</th>\n",
       "    </tr>\n",
       "  </thead>\n",
       "  <tbody>\n",
       "    <tr>\n",
       "      <th>0</th>\n",
       "      <td>-3.58732</td>\n",
       "      <td>2.82756</td>\n",
       "      <td>0.61315</td>\n",
       "      <td>1.78560</td>\n",
       "      <td>0.86683</td>\n",
       "      <td>-4.08761</td>\n",
       "      <td>1.76045</td>\n",
       "      <td>-4.93239</td>\n",
       "      <td>-1.50095</td>\n",
       "      <td>0.26589</td>\n",
       "      <td>-0.40599</td>\n",
       "      <td>-3.58595</td>\n",
       "      <td>2.41003</td>\n",
       "      <td>-0.33306</td>\n",
       "      <td>5.31568</td>\n",
       "      <td>-1.62066</td>\n",
       "      <td>0</td>\n",
       "      <td>1991.00000</td>\n",
       "      <td>2014.00000</td>\n",
       "      <td>1</td>\n",
       "    </tr>\n",
       "    <tr>\n",
       "      <th>1</th>\n",
       "      <td>0.12670</td>\n",
       "      <td>-1.65816</td>\n",
       "      <td>-0.61351</td>\n",
       "      <td>-3.60944</td>\n",
       "      <td>3.08006</td>\n",
       "      <td>6.00717</td>\n",
       "      <td>2.72879</td>\n",
       "      <td>-3.33571</td>\n",
       "      <td>0.13823</td>\n",
       "      <td>-0.65975</td>\n",
       "      <td>-0.19616</td>\n",
       "      <td>1.39748</td>\n",
       "      <td>-1.36438</td>\n",
       "      <td>0.78453</td>\n",
       "      <td>0.06152</td>\n",
       "      <td>3.54912</td>\n",
       "      <td>0</td>\n",
       "      <td>1992.00000</td>\n",
       "      <td>2013.00000</td>\n",
       "      <td>1</td>\n",
       "    </tr>\n",
       "    <tr>\n",
       "      <th>2</th>\n",
       "      <td>-0.11497</td>\n",
       "      <td>-0.08781</td>\n",
       "      <td>-1.63130</td>\n",
       "      <td>0.61358</td>\n",
       "      <td>-0.18274</td>\n",
       "      <td>2.21536</td>\n",
       "      <td>-1.20202</td>\n",
       "      <td>1.38636</td>\n",
       "      <td>-1.00715</td>\n",
       "      <td>-1.12576</td>\n",
       "      <td>-0.13575</td>\n",
       "      <td>0.33855</td>\n",
       "      <td>-1.18765</td>\n",
       "      <td>-0.10999</td>\n",
       "      <td>-1.60681</td>\n",
       "      <td>1.25900</td>\n",
       "      <td>0</td>\n",
       "      <td>1992.00000</td>\n",
       "      <td>2014.00000</td>\n",
       "      <td>1</td>\n",
       "    </tr>\n",
       "    <tr>\n",
       "      <th>3</th>\n",
       "      <td>-0.93918</td>\n",
       "      <td>-0.10740</td>\n",
       "      <td>-0.15290</td>\n",
       "      <td>-1.26467</td>\n",
       "      <td>-1.75252</td>\n",
       "      <td>2.53374</td>\n",
       "      <td>-1.00805</td>\n",
       "      <td>1.55743</td>\n",
       "      <td>1.65103</td>\n",
       "      <td>1.13717</td>\n",
       "      <td>-2.21030</td>\n",
       "      <td>-0.36551</td>\n",
       "      <td>-0.04281</td>\n",
       "      <td>-0.44820</td>\n",
       "      <td>1.54015</td>\n",
       "      <td>3.68052</td>\n",
       "      <td>0</td>\n",
       "      <td>1990.00000</td>\n",
       "      <td>2017.00000</td>\n",
       "      <td>1</td>\n",
       "    </tr>\n",
       "    <tr>\n",
       "      <th>4</th>\n",
       "      <td>-0.22160</td>\n",
       "      <td>4.55089</td>\n",
       "      <td>-3.52169</td>\n",
       "      <td>2.10049</td>\n",
       "      <td>-0.18616</td>\n",
       "      <td>-1.34608</td>\n",
       "      <td>3.50807</td>\n",
       "      <td>-0.42877</td>\n",
       "      <td>3.88768</td>\n",
       "      <td>-0.92489</td>\n",
       "      <td>0.65473</td>\n",
       "      <td>-0.13412</td>\n",
       "      <td>1.50138</td>\n",
       "      <td>3.50810</td>\n",
       "      <td>-1.12805</td>\n",
       "      <td>-0.14021</td>\n",
       "      <td>1</td>\n",
       "      <td>2005.00000</td>\n",
       "      <td>2013.00000</td>\n",
       "      <td>1</td>\n",
       "    </tr>\n",
       "  </tbody>\n",
       "</table>\n",
       "</div>"
      ],
      "text/plain": [
       "        x0       x1       x2       x3       x4       x5       x6       x7  \\\n",
       "0 -3.58732  2.82756  0.61315  1.78560  0.86683 -4.08761  1.76045 -4.93239   \n",
       "1  0.12670 -1.65816 -0.61351 -3.60944  3.08006  6.00717  2.72879 -3.33571   \n",
       "2 -0.11497 -0.08781 -1.63130  0.61358 -0.18274  2.21536 -1.20202  1.38636   \n",
       "3 -0.93918 -0.10740 -0.15290 -1.26467 -1.75252  2.53374 -1.00805  1.55743   \n",
       "4 -0.22160  4.55089 -3.52169  2.10049 -0.18616 -1.34608  3.50807 -0.42877   \n",
       "\n",
       "        x8       x9      x10      x11      x12      x13      x14      x15  \\\n",
       "0 -1.50095  0.26589 -0.40599 -3.58595  2.41003 -0.33306  5.31568 -1.62066   \n",
       "1  0.13823 -0.65975 -0.19616  1.39748 -1.36438  0.78453  0.06152  3.54912   \n",
       "2 -1.00715 -1.12576 -0.13575  0.33855 -1.18765 -0.10999 -1.60681  1.25900   \n",
       "3  1.65103  1.13717 -2.21030 -0.36551 -0.04281 -0.44820  1.54015  3.68052   \n",
       "4  3.88768 -0.92489  0.65473 -0.13412  1.50138  3.50810 -1.12805 -0.14021   \n",
       "\n",
       "   x16        x17        x18  accident_rate  \n",
       "0    0 1991.00000 2014.00000              1  \n",
       "1    0 1992.00000 2013.00000              1  \n",
       "2    0 1992.00000 2014.00000              1  \n",
       "3    0 1990.00000 2017.00000              1  \n",
       "4    1 2005.00000 2013.00000              1  "
      ]
     },
     "execution_count": 3,
     "metadata": {},
     "output_type": "execute_result"
    }
   ],
   "source": [
    "data.head()"
   ]
  },
  {
   "cell_type": "code",
   "execution_count": 4,
   "metadata": {},
   "outputs": [
    {
     "name": "stdout",
     "output_type": "stream",
     "text": [
      "<class 'pandas.core.frame.DataFrame'>\n",
      "RangeIndex: 1415 entries, 0 to 1414\n",
      "Data columns (total 20 columns):\n",
      " #   Column         Non-Null Count  Dtype  \n",
      "---  ------         --------------  -----  \n",
      " 0   x0             1415 non-null   float64\n",
      " 1   x1             1415 non-null   float64\n",
      " 2   x2             1415 non-null   float64\n",
      " 3   x3             1415 non-null   float64\n",
      " 4   x4             1415 non-null   float64\n",
      " 5   x5             1415 non-null   float64\n",
      " 6   x6             1415 non-null   float64\n",
      " 7   x7             1415 non-null   float64\n",
      " 8   x8             1415 non-null   float64\n",
      " 9   x9             1415 non-null   float64\n",
      " 10  x10            1415 non-null   float64\n",
      " 11  x11            1415 non-null   float64\n",
      " 12  x12            1415 non-null   float64\n",
      " 13  x13            1415 non-null   float64\n",
      " 14  x14            1415 non-null   float64\n",
      " 15  x15            1415 non-null   float64\n",
      " 16  x16            1415 non-null   int64  \n",
      " 17  x17            1415 non-null   float64\n",
      " 18  x18            1415 non-null   float64\n",
      " 19  accident_rate  1415 non-null   int64  \n",
      "dtypes: float64(18), int64(2)\n",
      "memory usage: 221.2 KB\n"
     ]
    }
   ],
   "source": [
    "# check for missing values\n",
    "data.info()"
   ]
  },
  {
   "cell_type": "code",
   "execution_count": 5,
   "metadata": {},
   "outputs": [],
   "source": [
    "# inplace missing values\n",
    "data.fillna(data.mean(), inplace=True)"
   ]
  },
  {
   "cell_type": "code",
   "execution_count": 6,
   "metadata": {},
   "outputs": [
    {
     "data": {
      "text/plain": [
       "1     845\n",
       "2     284\n",
       "3     122\n",
       "4      63\n",
       "5      40\n",
       "6      21\n",
       "7      15\n",
       "8       9\n",
       "10      5\n",
       "9       5\n",
       "11      4\n",
       "12      2\n",
       "Name: accident_rate, dtype: int64"
      ]
     },
     "execution_count": 6,
     "metadata": {},
     "output_type": "execute_result"
    }
   ],
   "source": [
    "# accident rate is a number of emergency repair for each 1 kilometer within reported year (X18 feature)\n",
    "data['accident_rate'].value_counts()"
   ]
  },
  {
   "cell_type": "markdown",
   "metadata": {},
   "source": [
    "# Binary classification approach\n",
    "\n",
    "We will label all pipelines with the accident rate lower than 2 as class 0 and all other pipelines with class 1 - pipelines that require preventive maintenance"
   ]
  },
  {
   "cell_type": "code",
   "execution_count": 7,
   "metadata": {},
   "outputs": [],
   "source": [
    "data['label'] = data['accident_rate'].apply(lambda x: 1 if x>1 else 0)\n",
    "data.drop('accident_rate', axis=1, inplace=True)"
   ]
  },
  {
   "cell_type": "code",
   "execution_count": 8,
   "metadata": {},
   "outputs": [
    {
     "data": {
      "text/plain": [
       "0   0.59717\n",
       "1   0.40283\n",
       "Name: label, dtype: float64"
      ]
     },
     "execution_count": 8,
     "metadata": {},
     "output_type": "execute_result"
    }
   ],
   "source": [
    "# class balance\n",
    "data['label'].value_counts()/data.shape[0]"
   ]
  },
  {
   "cell_type": "code",
   "execution_count": 9,
   "metadata": {},
   "outputs": [],
   "source": [
    "features = [col for col in data.columns if 'x' in col]"
   ]
  },
  {
   "cell_type": "markdown",
   "metadata": {},
   "source": [
    "## Metric\n",
    "\n",
    "Is is important to keep False Positive predictions on the minimum but at the same time identiffy as much trouble pipeline as possible. So we could use combination of precision and recall - f-score metric\n",
    "\n",
    "$\\begin{equation*}\\large\n",
    "precision = \\frac{True Positive}{True Positive + False Positive} \n",
    "\\end{equation*}$\n",
    "\n",
    "$\\begin{equation*}\\large\n",
    "recall = \\frac{True Positive}{True Positive + False Negative} \n",
    "\\end{equation*}$\n",
    "\n",
    "combining two metrics\n",
    "\n",
    "$\\begin{equation*}\\large\n",
    "F_1 = 2*\\frac{precision*recall}{preciision + recall} \n",
    "\\end{equation*}$"
   ]
  },
  {
   "cell_type": "markdown",
   "metadata": {},
   "source": [
    "## Modeling\n",
    "\n",
    "![](https://scikit-learn.org/stable/_images/grid_search_cross_validation.png)\n",
    "\n",
    "source: https://scikit-learn.org/stable/modules/cross_validation.html"
   ]
  },
  {
   "cell_type": "code",
   "execution_count": 10,
   "metadata": {},
   "outputs": [
    {
     "data": {
      "text/plain": [
       "2015.00000    345\n",
       "2016.00000    340\n",
       "2014.00000    312\n",
       "2013.00000    233\n",
       "2017.00000    185\n",
       "Name: x18, dtype: int64"
      ]
     },
     "execution_count": 10,
     "metadata": {},
     "output_type": "execute_result"
    }
   ],
   "source": [
    "data['x18'].value_counts()"
   ]
  },
  {
   "cell_type": "code",
   "execution_count": 11,
   "metadata": {},
   "outputs": [],
   "source": [
    "test = data[data['x18']>=2016]\n",
    "train = data[data['x18']<2016]"
   ]
  },
  {
   "cell_type": "code",
   "execution_count": 14,
   "metadata": {},
   "outputs": [],
   "source": [
    "from sklearn.ensemble import RandomForestClassifier\n",
    "from sklearn.model_selection import cross_val_score\n",
    "\n",
    "model = RandomForestClassifier()\n",
    "\n",
    "cv_scores = cross_val_score(model, \n",
    "                            train[features].values, \n",
    "                            train['label'].values.reshape(-1,1),\n",
    "                            cv=7,\n",
    "                            scoring='f1'\n",
    "                           )"
   ]
  },
  {
   "cell_type": "code",
   "execution_count": 15,
   "metadata": {},
   "outputs": [
    {
     "data": {
      "text/plain": [
       "array([0.9245283 , 1.        , 1.        , 1.        , 0.92307692,\n",
       "       1.        , 0.8115942 ])"
      ]
     },
     "execution_count": 15,
     "metadata": {},
     "output_type": "execute_result"
    }
   ],
   "source": [
    "cv_scores"
   ]
  },
  {
   "cell_type": "markdown",
   "metadata": {},
   "source": [
    "## Analysis of the results"
   ]
  },
  {
   "cell_type": "code",
   "execution_count": 16,
   "metadata": {},
   "outputs": [],
   "source": [
    "model.fit(train[features].values, \n",
    "          train['label'].values.reshape(-1,1))\n",
    "\n",
    "test['proba_prediction'] = model.predict_proba(test[features].values)[:,1]\n",
    "test['binary_prediction'] = model.predict(test[features].values)"
   ]
  },
  {
   "cell_type": "code",
   "execution_count": 22,
   "metadata": {},
   "outputs": [
    {
     "data": {
      "image/png": "[encoded data removed]",
      "text/plain": [
       "<Figure size 576x432 with 2 Axes>"
      ]
     },
     "metadata": {},
     "output_type": "display_data"
    }
   ],
   "source": [
    "from sklearn.metrics import plot_confusion_matrix, confusion_matrix\n",
    "\n",
    "cm = confusion_matrix(test['label'].values, test['binary_prediction'].values)\n",
    "\n",
    "\n",
    "fig, ax = pylab.subplots(figsize=(8, 6))\n",
    "# sns.set(font_scale=2.0) # Adjust to fit\n",
    "sns.heatmap(cm, annot=True, ax=ax, cmap=\"Blues\", fmt=\"g\", annot_kws={\"size\": 20})  \n",
    "\n",
    "# Labels, title and ticks\n",
    "label_font = {'size':'16'}  # Adjust to fit\n",
    "ax.set_xlabel('Predicted labels', fontdict=label_font);\n",
    "ax.set_ylabel('Observed labels', fontdict=label_font);\n",
    "\n",
    "title_font = {'size':'21'}  # Adjust to fit\n",
    "ax.set_title('Confusion Matrix', fontdict=title_font);\n",
    "\n",
    "ax.tick_params(axis='both', which='major', labelsize=10)  # Adjust to fit\n",
    "ax.xaxis.set_ticklabels(['False', 'True']);\n",
    "ax.yaxis.set_ticklabels(['False', 'True']);"
   ]
  },
  {
   "cell_type": "code",
   "execution_count": null,
   "metadata": {},
   "outputs": [],
   "source": []
  },
  {
   "cell_type": "markdown",
   "metadata": {},
   "source": [
    "# Let's practice\n",
    "\n",
    "Let's try to use regression instead of binary classification"
   ]
  },
  {
   "cell_type": "code",
   "execution_count": 25,
   "metadata": {},
   "outputs": [],
   "source": [
    "data = pd.read_csv(\"../data/Pipeline_accidents.csv\")"
   ]
  },
  {
   "cell_type": "code",
   "execution_count": 32,
   "metadata": {},
   "outputs": [
    {
     "data": {
      "text/html": [
       "<div>\n",
       "<style scoped>\n",
       "    .dataframe tbody tr th:only-of-type {\n",
       "        vertical-align: middle;\n",
       "    }\n",
       "\n",
       "    .dataframe tbody tr th {\n",
       "        vertical-align: top;\n",
       "    }\n",
       "\n",
       "    .dataframe thead th {\n",
       "        text-align: right;\n",
       "    }\n",
       "</style>\n",
       "<table border=\"1\" class=\"dataframe\">\n",
       "  <thead>\n",
       "    <tr style=\"text-align: right;\">\n",
       "      <th></th>\n",
       "      <th>x0</th>\n",
       "      <th>x1</th>\n",
       "      <th>x2</th>\n",
       "      <th>x3</th>\n",
       "      <th>x4</th>\n",
       "      <th>x5</th>\n",
       "      <th>x6</th>\n",
       "      <th>x7</th>\n",
       "      <th>x8</th>\n",
       "      <th>x9</th>\n",
       "      <th>x10</th>\n",
       "      <th>x11</th>\n",
       "      <th>x12</th>\n",
       "      <th>x13</th>\n",
       "      <th>x14</th>\n",
       "      <th>x15</th>\n",
       "      <th>x16</th>\n",
       "      <th>x17</th>\n",
       "      <th>x18</th>\n",
       "      <th>accident_rate</th>\n",
       "    </tr>\n",
       "  </thead>\n",
       "  <tbody>\n",
       "    <tr>\n",
       "      <th>0</th>\n",
       "      <td>-3.58732</td>\n",
       "      <td>2.82756</td>\n",
       "      <td>0.61315</td>\n",
       "      <td>1.78560</td>\n",
       "      <td>0.86683</td>\n",
       "      <td>-4.08761</td>\n",
       "      <td>1.76045</td>\n",
       "      <td>-4.93239</td>\n",
       "      <td>-1.50095</td>\n",
       "      <td>0.26589</td>\n",
       "      <td>-0.40599</td>\n",
       "      <td>-3.58595</td>\n",
       "      <td>2.41003</td>\n",
       "      <td>-0.33306</td>\n",
       "      <td>5.31568</td>\n",
       "      <td>-1.62066</td>\n",
       "      <td>0</td>\n",
       "      <td>1991.00000</td>\n",
       "      <td>2014.00000</td>\n",
       "      <td>1</td>\n",
       "    </tr>\n",
       "    <tr>\n",
       "      <th>1</th>\n",
       "      <td>0.12670</td>\n",
       "      <td>-1.65816</td>\n",
       "      <td>-0.61351</td>\n",
       "      <td>-3.60944</td>\n",
       "      <td>3.08006</td>\n",
       "      <td>6.00717</td>\n",
       "      <td>2.72879</td>\n",
       "      <td>-3.33571</td>\n",
       "      <td>0.13823</td>\n",
       "      <td>-0.65975</td>\n",
       "      <td>-0.19616</td>\n",
       "      <td>1.39748</td>\n",
       "      <td>-1.36438</td>\n",
       "      <td>0.78453</td>\n",
       "      <td>0.06152</td>\n",
       "      <td>3.54912</td>\n",
       "      <td>0</td>\n",
       "      <td>1992.00000</td>\n",
       "      <td>2013.00000</td>\n",
       "      <td>1</td>\n",
       "    </tr>\n",
       "    <tr>\n",
       "      <th>2</th>\n",
       "      <td>-0.11497</td>\n",
       "      <td>-0.08781</td>\n",
       "      <td>-1.63130</td>\n",
       "      <td>0.61358</td>\n",
       "      <td>-0.18274</td>\n",
       "      <td>2.21536</td>\n",
       "      <td>-1.20202</td>\n",
       "      <td>1.38636</td>\n",
       "      <td>-1.00715</td>\n",
       "      <td>-1.12576</td>\n",
       "      <td>-0.13575</td>\n",
       "      <td>0.33855</td>\n",
       "      <td>-1.18765</td>\n",
       "      <td>-0.10999</td>\n",
       "      <td>-1.60681</td>\n",
       "      <td>1.25900</td>\n",
       "      <td>0</td>\n",
       "      <td>1992.00000</td>\n",
       "      <td>2014.00000</td>\n",
       "      <td>1</td>\n",
       "    </tr>\n",
       "    <tr>\n",
       "      <th>3</th>\n",
       "      <td>-0.93918</td>\n",
       "      <td>-0.10740</td>\n",
       "      <td>-0.15290</td>\n",
       "      <td>-1.26467</td>\n",
       "      <td>-1.75252</td>\n",
       "      <td>2.53374</td>\n",
       "      <td>-1.00805</td>\n",
       "      <td>1.55743</td>\n",
       "      <td>1.65103</td>\n",
       "      <td>1.13717</td>\n",
       "      <td>-2.21030</td>\n",
       "      <td>-0.36551</td>\n",
       "      <td>-0.04281</td>\n",
       "      <td>-0.44820</td>\n",
       "      <td>1.54015</td>\n",
       "      <td>3.68052</td>\n",
       "      <td>0</td>\n",
       "      <td>1990.00000</td>\n",
       "      <td>2017.00000</td>\n",
       "      <td>1</td>\n",
       "    </tr>\n",
       "    <tr>\n",
       "      <th>4</th>\n",
       "      <td>-0.22160</td>\n",
       "      <td>4.55089</td>\n",
       "      <td>-3.52169</td>\n",
       "      <td>2.10049</td>\n",
       "      <td>-0.18616</td>\n",
       "      <td>-1.34608</td>\n",
       "      <td>3.50807</td>\n",
       "      <td>-0.42877</td>\n",
       "      <td>3.88768</td>\n",
       "      <td>-0.92489</td>\n",
       "      <td>0.65473</td>\n",
       "      <td>-0.13412</td>\n",
       "      <td>1.50138</td>\n",
       "      <td>3.50810</td>\n",
       "      <td>-1.12805</td>\n",
       "      <td>-0.14021</td>\n",
       "      <td>1</td>\n",
       "      <td>2005.00000</td>\n",
       "      <td>2013.00000</td>\n",
       "      <td>1</td>\n",
       "    </tr>\n",
       "  </tbody>\n",
       "</table>\n",
       "</div>"
      ],
      "text/plain": [
       "        x0       x1       x2       x3       x4       x5       x6       x7  \\\n",
       "0 -3.58732  2.82756  0.61315  1.78560  0.86683 -4.08761  1.76045 -4.93239   \n",
       "1  0.12670 -1.65816 -0.61351 -3.60944  3.08006  6.00717  2.72879 -3.33571   \n",
       "2 -0.11497 -0.08781 -1.63130  0.61358 -0.18274  2.21536 -1.20202  1.38636   \n",
       "3 -0.93918 -0.10740 -0.15290 -1.26467 -1.75252  2.53374 -1.00805  1.55743   \n",
       "4 -0.22160  4.55089 -3.52169  2.10049 -0.18616 -1.34608  3.50807 -0.42877   \n",
       "\n",
       "        x8       x9      x10      x11      x12      x13      x14      x15  \\\n",
       "0 -1.50095  0.26589 -0.40599 -3.58595  2.41003 -0.33306  5.31568 -1.62066   \n",
       "1  0.13823 -0.65975 -0.19616  1.39748 -1.36438  0.78453  0.06152  3.54912   \n",
       "2 -1.00715 -1.12576 -0.13575  0.33855 -1.18765 -0.10999 -1.60681  1.25900   \n",
       "3  1.65103  1.13717 -2.21030 -0.36551 -0.04281 -0.44820  1.54015  3.68052   \n",
       "4  3.88768 -0.92489  0.65473 -0.13412  1.50138  3.50810 -1.12805 -0.14021   \n",
       "\n",
       "   x16        x17        x18  accident_rate  \n",
       "0    0 1991.00000 2014.00000              1  \n",
       "1    0 1992.00000 2013.00000              1  \n",
       "2    0 1992.00000 2014.00000              1  \n",
       "3    0 1990.00000 2017.00000              1  \n",
       "4    1 2005.00000 2013.00000              1  "
      ]
     },
     "execution_count": 32,
     "metadata": {},
     "output_type": "execute_result"
    }
   ],
   "source": [
    "data.head()"
   ]
  }
 ],
 "metadata": {
  "kernelspec": {
   "display_name": "Python 3",
   "language": "python",
   "name": "python3"
  },
  "language_info": {
   "codemirror_mode": {
    "name": "ipython",
    "version": 3
   },
   "file_extension": ".py",
   "mimetype": "text/x-python",
   "name": "python",
   "nbconvert_exporter": "python",
   "pygments_lexer": "ipython3",
   "version": "3.7.6"
  }
 },
 "nbformat": 4,
 "nbformat_minor": 4
}
