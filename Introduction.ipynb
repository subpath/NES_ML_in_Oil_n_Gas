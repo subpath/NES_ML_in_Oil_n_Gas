{
 "cells": [
  {
   "cell_type": "markdown",
   "metadata": {},
   "source": [
    "# Machine Learning in Oil and Gas industry\n",
    "\n",
    "## About seminars:\n",
    "\n",
    "Seminar resources: [https://github.com/subpath/NES_ML_in_Oil_n_Gas](https://github.com/subpath/NES_ML_in_Oil_n_Gas)\n",
    "\n",
    "Logistics:\n",
    "\n",
    "* 2 seminars 3 hours each\n",
    "* 2 practical cases per seminar \n",
    "* some theory first and then individual practice\n",
    "\n",
    "\n",
    "#### Seminar 1 - May 22, 2020:\n",
    "Unsupervised  methods in Oil and Gas industry: \n",
    "* anomaly detection in field sensor's data\n",
    "* clustering of the rock formations\n",
    "\n",
    "\n",
    "#### Seminar 2 - June 10, 2020:\n",
    "Supervised  methods in Oil and Gas industry: \n",
    "* pipeline preventive maintenance\n",
    "* choosing wells candidates for fracking\n",
    "\n",
    "---\n",
    "\n",
    "## About me:\n",
    "\n",
    "--- \n",
    "####  Alexander Osipenko\n",
    "\n",
    "email: mr.aosipenko@gmail.com\n",
    "\n",
    "LinkedIn: [https://www.linkedin.com/in/aosipenko/](https://www.linkedin.com/in/aosipenko/)\n",
    "\n",
    "GitHub: [https://github.com/subpath](https://github.com/subpath)\n",
    "\n",
    "---\n",
    "\n",
    "Backgroud: computational chemistry\n",
    "\n",
    "Experience: 5 years in Oil n Gas, 3+ years in Finance and cyber-security\n",
    "\n",
    "---"
   ]
  }
 ],
 "metadata": {
  "kernelspec": {
   "display_name": "Python 3",
   "language": "python",
   "name": "python3"
  },
  "language_info": {
   "codemirror_mode": {
    "name": "ipython",
    "version": 3
   },
   "file_extension": ".py",
   "mimetype": "text/x-python",
   "name": "python",
   "nbconvert_exporter": "python",
   "pygments_lexer": "ipython3",
   "version": "3.7.6"
  }
 },
 "nbformat": 4,
 "nbformat_minor": 4
}
