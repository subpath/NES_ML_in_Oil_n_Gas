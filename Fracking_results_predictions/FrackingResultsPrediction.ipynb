{
 "cells": [
  {
   "cell_type": "markdown",
   "metadata": {},
   "source": [
    "# Case #3. Fracking results predictions\n",
    "\n",
    "![](https://assets.nrdc.org/sites/default/files/styles/ec_home_alert_large/public/fracking_cross_section_v9.png?itok=40YGp5Qz)\n",
    "\n",
    "source: https://www.nrdc.org/stories/fracking-101"
   ]
  },
  {
   "cell_type": "markdown",
   "metadata": {},
   "source": [
    "**Fracking (ГРП)** - the hydraulic fracturing method consists in creating a highly conductive crack in the target reservoir\n",
    "\n",
    "Solves the following tasks:\n",
    "* Improved well productivity/pick-up rate\n",
    "* Increased oil recovery rate\n",
    "* Reduction of working depression while maintaining the debit\n",
    "\n",
    "![](https://stimul.online/upload/medialibrary/940/9404384d18a1137993a665684582caff.jpg)\n",
    "source: https://stimul.online/articles/interview/skvazhiny-zhdut-intellekta/"
   ]
  },
  {
   "cell_type": "markdown",
   "metadata": {},
   "source": [
    "## Problem set: \n",
    "\n",
    "Currently, the selection process for wells candidates for fracking relies on the manual approach when the experience of the particular person can be the most important factor. Two different experts can come up with different conclusions. The goal is to create an automated well selection process that can be used an expert to predict successfulness of secondary fracking.\n",
    "\n",
    "\n",
    "**Fracking success criteria:**\n",
    "1. Instant increase in the flow rate of at least 15 tons per day\n",
    "2. Average increase in the flow rate of at least 10 tons per day within next 6 month"
   ]
  },
  {
   "cell_type": "markdown",
   "metadata": {},
   "source": [
    "## Available data\n",
    "\n",
    "Training dataset was collected from the results of fracking performed on the field M until 2017 and consist of 1094 records. Features were selected after consultations with the fracking experts. For the sake of convinience feature names were encoded with lating letter.\n",
    "\n",
    "```python\n",
    "                    {\"A\": \"Нефтенасыщенная толщина\",\n",
    "                    \"B\": \"Темп падения дебита жидкости за 6 месяцев\",\n",
    "                    \"C\": \"Темп падения дебита жидкости за 12 месяцев\",\n",
    "                    \"D\": \"Отношение текущего дебита жидкости к максимальному\",\n",
    "                    \"E\": \"Расчлененность пласта\",\n",
    "                    \"F\": \"Накопленная добыча жидкости на 1 метр ННТ\",\n",
    "                    \"G\": \"Дебит жидкости скважин окружения на 1 метр ННТ\",\n",
    "                    \"H\": \"Проницаемость пласта\",\n",
    "                    \"I\": \"Отношение дебита жидкости скважины к ННТ\",\n",
    "                    \"J\": \"Отношение накопленной добычи жидкости скважин окружения на к ННТ\",\n",
    "                    \"K\": \"Расстояние до ближайшей скважины с успешным ГРП\",\n",
    "                    \"L\": \"Расстояние до ближайшей скважины с неуспешным ГРП\",\n",
    "                    \"M\": \"Расстояние до ближайшей нагнетательной скважины\",\n",
    "                    \"N\": \"Количество скважин с успешным ГРП в радиусе 1 километра\",\n",
    "                    \"O\": \"Количество скважин с неуспешным ГРП в радиусе 1 километра\",\n",
    "                    \"P\": \"Обводненность до ГРП\",\n",
    "                    \"Q\": \"Накопленная закачка скважин окружения на 1 метр ННТ\",\n",
    "                    \"U\": \"Количество дней после последнего ГТМ\",\n",
    "                    \"V\": \"Количество дней после последнего ГРП\",\n",
    "                    \"X\": \"Накопленная добыча нефти скважин окружения на 1 метр ННТ\",\n",
    "                    \"G1\": \"Забойное давление\",\n",
    "                    \"H1\": \"Пластовое давление\"}\n",
    "```\n",
    "\n",
    "Testing dataset consists of 1191 records with no labels. Some of these wells were planned for fracking in the future and some of the wells currently under fracking with no result available at the moment\n",
    "\n",
    "![](../pictures/FrackingDataFlow.png)"
   ]
  },
  {
   "cell_type": "code",
   "execution_count": 71,
   "metadata": {},
   "outputs": [
    {
     "name": "stdout",
     "output_type": "stream",
     "text": [
      "Populating the interactive namespace from numpy and matplotlib\n",
      "The autoreload extension is already loaded. To reload it, use:\n",
      "  %reload_ext autoreload\n"
     ]
    }
   ],
   "source": [
    "%pylab inline \n",
    "%load_ext autoreload\n",
    "%autoreload 2\n",
    "\n",
    "# external\n",
    "import pandas as pd\n",
    "import numpy as np\n",
    "import seaborn as sns\n",
    "import warnings\n",
    "from pandas.plotting import register_matplotlib_converters\n",
    "\n",
    "register_matplotlib_converters()\n",
    "sns.set_style('whitegrid')\n",
    "warnings.simplefilter('ignore')"
   ]
  },
  {
   "cell_type": "code",
   "execution_count": 72,
   "metadata": {},
   "outputs": [],
   "source": [
    "train = pd.read_csv(\"../data/FrackingLabeledData.csv\")\n",
    "test = pd.read_csv(\"../data/FrackingNonLabeledData.csv\")"
   ]
  },
  {
   "cell_type": "code",
   "execution_count": 73,
   "metadata": {},
   "outputs": [],
   "source": [
    "features = ['A', 'B', 'C', 'D', 'E', 'F', 'G', 'H', 'I', 'J', 'K', \n",
    "            'L', 'M', 'N', 'O', 'P', 'Q', 'U', 'V', 'X', 'G1', 'H1']"
   ]
  },
  {
   "cell_type": "markdown",
   "metadata": {},
   "source": [
    "## Feature selection"
   ]
  },
  {
   "cell_type": "code",
   "execution_count": 74,
   "metadata": {},
   "outputs": [
    {
     "data": {
      "text/plain": [
       "<matplotlib.axes._subplots.AxesSubplot at 0x138d44450>"
      ]
     },
     "execution_count": 74,
     "metadata": {},
     "output_type": "execute_result"
    },
    {
     "data": {
      "image/png": "[encoded data removed]",
      "text/plain": [
       "<Figure size 864x576 with 2 Axes>"
      ]
     },
     "metadata": {},
     "output_type": "display_data"
    }
   ],
   "source": [
    "pylab.figure(figsize=(12,8))\n",
    "pylab.title('Feature correlation heatmap', size=16)\n",
    "sns.heatmap(train[features].corr(), cmap='Blues')"
   ]
  },
  {
   "cell_type": "code",
   "execution_count": 81,
   "metadata": {},
   "outputs": [
    {
     "name": "stdout",
     "output_type": "stream",
     "text": [
      "Correlation between feature pairs\n"
     ]
    },
    {
     "data": {
      "text/plain": [
       "N   F    0.871926\n",
       "G1  E    0.831844\n",
       "    N    0.770783\n",
       "dtype: float64"
      ]
     },
     "execution_count": 81,
     "metadata": {},
     "output_type": "execute_result"
    }
   ],
   "source": [
    "# took it from here: \n",
    "# https://stackoverflow.com/questions/24002820/returning-groups-of-correlated-columns-in-pandas-data-frame\n",
    "\n",
    "correlation_matrix = train[features].corr().abs()\n",
    "correlation_matrix.loc[:,:] =  np.tril(correlation_matrix, k=-1)\n",
    "correlation_matrix = correlation_matrix.stack()\n",
    "print('Correlation between feature pairs')\n",
    "correlation_matrix[correlation_matrix > 0.5].sort_values(ascending=False)"
   ]
  },
  {
   "cell_type": "markdown",
   "metadata": {},
   "source": [
    "### Feature greedy ellimination"
   ]
  },
  {
   "cell_type": "code",
   "execution_count": 82,
   "metadata": {},
   "outputs": [
    {
     "name": "stderr",
     "output_type": "stream",
     "text": [
      "greedily eliminating: 100%|██████████| 2/2 [00:00<00:00, 218.32it/s]\n"
     ]
    }
   ],
   "source": [
    "from copy import copy\n",
    "from tqdm import tqdm\n",
    "\n",
    "def get_correlation_matrix(data: pd.DataFrame, features:list):\n",
    "    correlation_matrix = data[features].corr().abs()\n",
    "    correlation_matrix.loc[:,:] =  np.tril(correlation_matrix, k=-1)\n",
    "    correlation_matrix = correlation_matrix.stack()\n",
    "    return correlation_matrix[correlation_matrix > 0.8].sort_values(ascending=False)\n",
    "\n",
    "features_ = copy(features)\n",
    "for pair in tqdm(get_correlation_matrix(train, features_).to_dict(), desc='greedily eliminating'):\n",
    "    column_to_remove = train[features].corr().mean()[list(pair)].sort_values().index[1]\n",
    "    if column_to_remove in features_:\n",
    "        features_.remove(column_to_remove)\n",
    "features = features_"
   ]
  },
  {
   "cell_type": "code",
   "execution_count": 83,
   "metadata": {},
   "outputs": [
    {
     "data": {
      "text/plain": [
       "<matplotlib.axes._subplots.AxesSubplot at 0x138d3da90>"
      ]
     },
     "execution_count": 83,
     "metadata": {},
     "output_type": "execute_result"
    },
    {
     "data": {
      "image/png": "[encoded data removed]",
      "text/plain": [
       "<Figure size 864x576 with 2 Axes>"
      ]
     },
     "metadata": {},
     "output_type": "display_data"
    }
   ],
   "source": [
    "pylab.figure(figsize=(12,8))\n",
    "pylab.title('Feature correlation heatmap', size=16)\n",
    "sns.heatmap(train[features].corr(), cmap='Blues')"
   ]
  },
  {
   "cell_type": "code",
   "execution_count": 85,
   "metadata": {},
   "outputs": [],
   "source": [
    "from sklearn.pipeline import Pipeline, FeatureUnion\n",
    "from sklearn.base import TransformerMixin, BaseEstimator\n",
    "from sklearn.preprocessing import StandardScaler\n",
    "\n",
    "class GreedyElimination(TransformerMixin, BaseEstimator):\n",
    "    \"\"\"\n",
    "    Between two pairs of correlated features, I will keep features with lowest mean correlation to all existed features.\n",
    "    \"\"\"\n",
    "    def __init__(self,threshold:float):\n",
    "        self._threshold = threshold\n",
    "    \n",
    "    def fit(self, x:pd.DataFrame, y=None):\n",
    "        \"\"\"\n",
    "        Mandatory method for sklearn.\n",
    "        \"\"\"\n",
    "        return self\n",
    "    \n",
    "    @staticmethod\n",
    "    def get_correlation_matrix(data: pd.DataFrame, features:list, threshold:float):\n",
    "        \"\"\"\n",
    "        Calculate correlated matrix and return the most correlated pairs.\n",
    "        \"\"\"\n",
    "        correlation_matrix = data[features].corr().abs()\n",
    "        correlation_matrix.loc[:,:] =  np.tril(correlation_matrix, k=-1)\n",
    "        correlation_matrix = correlation_matrix.stack()\n",
    "        return correlation_matrix[correlation_matrix > threshold].sort_values(ascending=False)\n",
    "\n",
    "    def transform(self, x:pd.DataFrame, y=None):\n",
    "        \"\"\"\n",
    "        Mandatory method for sklearn, will delete correlated columns.\n",
    "        \"\"\"\n",
    "        data = x.copy()\n",
    "        features_ = copy(data.columns.tolist())\n",
    "        for pair in GreedyElimination.get_correlation_matrix(data, features_, self._threshold).to_dict():\n",
    "            column_to_remove = data.corr().mean()[list(pair)].sort_values().index[1]\n",
    "            if column_to_remove in features_:\n",
    "                features_.remove(column_to_remove)\n",
    "        return data[features_].values\n",
    "\n",
    "    "
   ]
  },
  {
   "cell_type": "code",
   "execution_count": 138,
   "metadata": {},
   "outputs": [
    {
     "name": "stderr",
     "output_type": "stream",
     "text": [
      "100%|██████████| 4/4 [00:05<00:00,  1.30s/it]\n"
     ]
    }
   ],
   "source": [
    "from sklearn.tree import DecisionTreeClassifier\n",
    "from sklearn.svm import SVC\n",
    "from sklearn.linear_model import LogisticRegression\n",
    "from xgboost import XGBClassifier\n",
    "\n",
    "\n",
    "models = [XGBClassifier(),  DecisionTreeClassifier(), LogisticRegression(), SVC()]\n",
    "results = {}\n",
    "for model in tqdm(models):\n",
    "    pipe = (Pipeline([\n",
    "                ('dealing_with_correlation', GreedyElimination(threshold=0.5)),\n",
    "                ('scaling', StandardScaler()),\n",
    "                ('model', model)\n",
    "             ]))\n",
    "    \n",
    "    f_scores = cross_val_score( pipe, \n",
    "                                train[features], \n",
    "                                train['label'].values, \n",
    "                                cv=21, \n",
    "                                scoring='f1')\n",
    "    results[model.__class__.__name__] = f_scores\n",
    "    \n",
    "    \n"
   ]
  },
  {
   "cell_type": "code",
   "execution_count": 158,
   "metadata": {},
   "outputs": [
    {
     "data": {
      "text/plain": [
       "<matplotlib.axes._subplots.AxesSubplot at 0x13f2715d0>"
      ]
     },
     "execution_count": 158,
     "metadata": {},
     "output_type": "execute_result"
    },
    {
     "data": {
      "image/png": "[encoded data removed]",
      "text/plain": [
       "<Figure size 864x576 with 1 Axes>"
      ]
     },
     "metadata": {},
     "output_type": "display_data"
    }
   ],
   "source": [
    "pylab.figure(figsize=(12,8))\n",
    "pylab.title('F-scores',size=16)\n",
    "pylab.xticks(size=14)\n",
    "pylab.yticks(size=14)\n",
    "pylab.ylabel('f-score', size=14)\n",
    "sns.boxplot(data=pd.DataFrame(results))"
   ]
  },
  {
   "cell_type": "markdown",
   "metadata": {},
   "source": [
    "----\n",
    "# Let's practice\n",
    "\n",
    "Let's stick with XGBClassifier and will analyze model performace.\n",
    "\n",
    "* How the confusion matrix looks like?\n",
    "* Which features are most important for the model?\n",
    "* How similar labeled dataset (train) with non labeled dataset (test)?\n",
    "* Can we extend our predictions for unlabeled dataset?"
   ]
  },
  {
   "cell_type": "code",
   "execution_count": 159,
   "metadata": {},
   "outputs": [],
   "source": [
    "pipeline = (Pipeline([\n",
    "                ('dealing_with_correlation', GreedyElimination(threshold=0.5)),\n",
    "                ('scaling', StandardScaler()),\n",
    "                ('model', XGBClassifier())\n",
    "             ]))"
   ]
  },
  {
   "cell_type": "code",
   "execution_count": 160,
   "metadata": {},
   "outputs": [
    {
     "data": {
      "text/plain": [
       "Pipeline(memory=None,\n",
       "         steps=[('dealing_with_correlation', GreedyElimination(threshold=None)),\n",
       "                ('scaling',\n",
       "                 StandardScaler(copy=True, with_mean=True, with_std=True)),\n",
       "                ('model',\n",
       "                 XGBClassifier(base_score=0.5, booster=None,\n",
       "                               colsample_bylevel=1, colsample_bynode=1,\n",
       "                               colsample_bytree=1, gamma=0, gpu_id=-1,\n",
       "                               importance_type='gain',\n",
       "                               interaction_constraints=None,\n",
       "                               learning_rate=0.300000012, max_delta_step=0,\n",
       "                               max_depth=6, min_child_weight=1, missing=nan,\n",
       "                               monotone_constraints=None, n_estimators=100,\n",
       "                               n_jobs=0, num_parallel_tree=1,\n",
       "                               objective='binary:logistic', random_state=0,\n",
       "                               reg_alpha=0, reg_lambda=1, scale_pos_weight=1,\n",
       "                               subsample=1, tree_method=None,\n",
       "                               validate_parameters=False, verbosity=None))],\n",
       "         verbose=False)"
      ]
     },
     "execution_count": 160,
     "metadata": {},
     "output_type": "execute_result"
    }
   ],
   "source": [
    "pipeline.fit(train[features], train['label'])"
   ]
  },
  {
   "cell_type": "code",
   "execution_count": 162,
   "metadata": {},
   "outputs": [],
   "source": [
    "model = pipeline[2]"
   ]
  },
  {
   "cell_type": "markdown",
   "metadata": {},
   "source": [
    "### Confusion matrix"
   ]
  },
  {
   "cell_type": "code",
   "execution_count": 168,
   "metadata": {},
   "outputs": [],
   "source": [
    "from sklearn.metrics import confusion_matrix\n",
    "\n",
    "# confusion_matrix?"
   ]
  },
  {
   "cell_type": "code",
   "execution_count": null,
   "metadata": {},
   "outputs": [],
   "source": []
  },
  {
   "cell_type": "markdown",
   "metadata": {},
   "source": [
    "### Feature importance\n"
   ]
  },
  {
   "cell_type": "code",
   "execution_count": 174,
   "metadata": {},
   "outputs": [],
   "source": [
    "# model.feature_importances_"
   ]
  },
  {
   "cell_type": "code",
   "execution_count": null,
   "metadata": {},
   "outputs": [],
   "source": []
  },
  {
   "cell_type": "markdown",
   "metadata": {},
   "source": [
    "### Feature similarity between train and test datasets\n",
    "\n",
    "1. Combine train and test datasets\n",
    "2. Create new label \"is_train\" 1 if data from train dataset and 0 if from test dataset. Forget about previous label\n",
    "3. Shuffle new combined datasets and run cross-validation\n",
    "4. Check is AUC score is close to 0.5"
   ]
  },
  {
   "cell_type": "code",
   "execution_count": null,
   "metadata": {},
   "outputs": [],
   "source": [
    "# train['is_train'] = 1\n",
    "# test['is_train'] = 0\n",
    "\n",
    "# combined_dataset = pd.concat([train, test])\n"
   ]
  },
  {
   "cell_type": "code",
   "execution_count": 178,
   "metadata": {},
   "outputs": [],
   "source": [
    "validation_pipeline = (Pipeline([\n",
    "                            ('scaling', StandardScaler()),\n",
    "                            ('model', XGBClassifier())\n",
    "                         ]))"
   ]
  },
  {
   "cell_type": "code",
   "execution_count": 177,
   "metadata": {},
   "outputs": [],
   "source": [
    "from sklearn.metrics import plot_roc_curve\n",
    "\n",
    "# plot_roc_curve?"
   ]
  }
 ],
 "metadata": {
  "kernelspec": {
   "display_name": "Python 3",
   "language": "python",
   "name": "python3"
  },
  "language_info": {
   "codemirror_mode": {
    "name": "ipython",
    "version": 3
   },
   "file_extension": ".py",
   "mimetype": "text/x-python",
   "name": "python",
   "nbconvert_exporter": "python",
   "pygments_lexer": "ipython3",
   "version": "3.7.6"
  }
 },
 "nbformat": 4,
 "nbformat_minor": 4
}
